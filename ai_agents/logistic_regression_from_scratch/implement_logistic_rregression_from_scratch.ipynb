{
 "cells": [
  {
   "cell_type": "markdown",
   "id": "99350b81",
   "metadata": {},
   "source": [
    "# Logistic Regression\n",
    "\n",
    "### Overview\n",
    "This notebook guides you through the process of building a logistic regression model from scratch. We'll cover the basics of logistic regression, implement the model in Python, and evaluate its performance on a sample dataset.\n",
    "\n",
    "### Motivation\n",
    "Logistic regression is a fundamental algorithm in machine learning used for binary classification problems. It's a great starting point for understanding more complex models like neural networks. By implementing logistic regression from scratch, you'll gain a deeper understanding of the underlying math and be able to apply it to real-world problems.\n",
    "\n",
    "### Key Components\n",
    "*   **Logistic Function**: The logistic function, also known as the sigmoid function, maps any real-valued number to a value between 0 and 1. This is essential for logistic regression , as it allows us to model probabilities.\n",
    "*   **Cost Function**: The cost function measures the difference between the predicted probabilities and the actual labels . We'll use the binary cross-entropy loss function, which is commonly used for binary classification problems .\n",
    "*   **Gradient Descent**: Gradient descent is an optimization algorithm used to minimize the cost function. We'll use it to update the model's parameters and improve its performance.\n",
    "*   **Model Evaluation**: We'll evaluate the model's performance using metrics like accuracy, precision, recall, and F1-score.\n",
    "\n",
    "### Conclusion\n",
    "By the end of this notebook, you'll have a solid understanding of logistic regression and be able to implement it from scratch. You'll also learn how to evaluate the model's performance and identify areas for improvement."
   ]
  },
  {
   "cell_type": "code",
   "execution_count": 1,
   "id": "ada62c4f",
   "metadata": {},
   "outputs": [],
   "source": [
    "# import libraries\n",
    "import numpy as np\n",
    "import matplotlib.pyplot as plt\n",
    "import pandas as pd"
   ]
  },
  {
   "cell_type": "markdown",
   "id": "f6f7f150",
   "metadata": {},
   "source": [
    "### Generate Sample Data"
   ]
  },
  {
   "cell_type": "code",
   "execution_count": 6,
   "id": "9e59c827",
   "metadata": {},
   "outputs": [
    {
     "data": {
      "text/html": [
       "<div>\n",
       "<style scoped>\n",
       "    .dataframe tbody tr th:only-of-type {\n",
       "        vertical-align: middle;\n",
       "    }\n",
       "\n",
       "    .dataframe tbody tr th {\n",
       "        vertical-align: top;\n",
       "    }\n",
       "\n",
       "    .dataframe thead th {\n",
       "        text-align: right;\n",
       "    }\n",
       "</style>\n",
       "<table border=\"1\" class=\"dataframe\">\n",
       "  <thead>\n",
       "    <tr style=\"text-align: right;\">\n",
       "      <th></th>\n",
       "      <th>temperature</th>\n",
       "      <th>humidity</th>\n",
       "      <th>wind_speed</th>\n",
       "      <th>weather</th>\n",
       "    </tr>\n",
       "  </thead>\n",
       "  <tbody>\n",
       "    <tr>\n",
       "      <th>0</th>\n",
       "      <td>27.490802</td>\n",
       "      <td>72.829703</td>\n",
       "      <td>2.440765</td>\n",
       "      <td>0</td>\n",
       "    </tr>\n",
       "    <tr>\n",
       "      <th>1</th>\n",
       "      <td>39.014286</td>\n",
       "      <td>39.764570</td>\n",
       "      <td>9.903538</td>\n",
       "      <td>1</td>\n",
       "    </tr>\n",
       "    <tr>\n",
       "      <th>2</th>\n",
       "      <td>34.639879</td>\n",
       "      <td>50.450125</td>\n",
       "      <td>0.687770</td>\n",
       "      <td>1</td>\n",
       "    </tr>\n",
       "    <tr>\n",
       "      <th>3</th>\n",
       "      <td>31.973170</td>\n",
       "      <td>55.645329</td>\n",
       "      <td>18.186408</td>\n",
       "      <td>0</td>\n",
       "    </tr>\n",
       "    <tr>\n",
       "      <th>4</th>\n",
       "      <td>23.120373</td>\n",
       "      <td>61.924899</td>\n",
       "      <td>5.175600</td>\n",
       "      <td>1</td>\n",
       "    </tr>\n",
       "  </tbody>\n",
       "</table>\n",
       "</div>"
      ],
      "text/plain": [
       "   temperature   humidity  wind_speed  weather\n",
       "0    27.490802  72.829703    2.440765        0\n",
       "1    39.014286  39.764570    9.903538        1\n",
       "2    34.639879  50.450125    0.687770        1\n",
       "3    31.973170  55.645329   18.186408        0\n",
       "4    23.120373  61.924899    5.175600        1"
      ]
     },
     "execution_count": 6,
     "metadata": {},
     "output_type": "execute_result"
    }
   ],
   "source": [
    "np.random.seed(42)  # For reproducibility\n",
    "\n",
    "# Generate synthetic data\n",
    "temperature = np.random.uniform(20, 40, 20)\n",
    "humidity = np.random.uniform(30, 100, 20)\n",
    "wind_speed = np.random.uniform(0, 20, 20)\n",
    "\n",
    "# Simulate Labels\n",
    "labels = np.where((humidity > 70) | (wind_speed > 15), 0, 1)\n",
    "\n",
    "# Create DataFrame\n",
    "df = pd.DataFrame({\n",
    "    'temperature': temperature,\n",
    "    'humidity': humidity,\n",
    "    'wind_speed': wind_speed,\n",
    "    'weather': labels\n",
    "})\n",
    "\n",
    "# Display the first few rows of the DataFrame\n",
    "df.head(5)"
   ]
  },
  {
   "cell_type": "markdown",
   "id": "8dce015e",
   "metadata": {},
   "source": [
    "### Build Logistic Regression Model"
   ]
  },
  {
   "cell_type": "code",
   "execution_count": 4,
   "id": "2bc4fb44",
   "metadata": {},
   "outputs": [],
   "source": [
    "# Define the sigmoid function\n",
    "def sigmoid(z):\n",
    "    return 1 / (1 + np.exp(-z))\n",
    "\n",
    "class LogisticRegression:\n",
    "    def __init__(self, learning_rate=0.01, num_iterations=1000):\n",
    "        self.learning_rate = learning_rate\n",
    "        self.num_iterations = num_iterations\n",
    "\n",
    "    def fit(self, X, y):\n",
    "        n_samples, n_features = X.shape\n",
    "        self.weights = np.zeros(n_features)\n",
    "        self.bias = 0\n",
    "\n",
    "        for _ in range(self.num_iterations):\n",
    "            linear_model = np.dot(X, self.weights) + self.bias\n",
    "            y_pred = sigmoid(linear_model)\n",
    "\n",
    "            dw = (1 / n_samples) * np.dot(X.T, (y_pred - y))\n",
    "            db = (1 / n_samples) * np.sum(y_pred - y)\n",
    "\n",
    "            self.weights -= self.learning_rate * dw\n",
    "            self.bias -= self.learning_rate * db\n",
    "\n",
    "    def predict_proba(self, X):\n",
    "        return sigmoid(np.dot(X, self.weights) + self.bias)\n",
    "\n",
    "    def predict(self, X):\n",
    "        return np.where(self.predict_proba(X) >= 0.5, 1, 0)\n"
   ]
  },
  {
   "cell_type": "code",
   "execution_count": 7,
   "id": "670888a3",
   "metadata": {},
   "outputs": [],
   "source": [
    "from sklearn.model_selection import train_test_split\n",
    "\n",
    "# Split data\n",
    "X = df[['temperature', 'humidity', 'wind_speed']].values\n",
    "y = df['weather'].values\n",
    "X_train, X_test, y_train, y_test = train_test_split(X, y, test_size=0.3, random_state=42)\n",
    "\n",
    "# Train\n",
    "model = LogisticRegression(learning_rate=0.01, num_iterations=1000)\n",
    "model.fit(X_train, y_train)\n",
    "\n",
    "# Predict\n",
    "y_pred = model.predict(X_test)\n"
   ]
  },
  {
   "cell_type": "code",
   "execution_count": 8,
   "id": "aa34d7c3",
   "metadata": {},
   "outputs": [
    {
     "name": "stdout",
     "output_type": "stream",
     "text": [
      "Precision: 0.50\n",
      "Recall: 1.00\n"
     ]
    }
   ],
   "source": [
    "def precision_recall(y_true, y_pred):\n",
    "    TP = np.sum((y_true == 1) & (y_pred == 1))\n",
    "    FP = np.sum((y_true == 0) & (y_pred == 1))\n",
    "    FN = np.sum((y_true == 1) & (y_pred == 0))\n",
    "\n",
    "    precision = TP / (TP + FP) if (TP + FP) != 0 else 0\n",
    "    recall    = TP / (TP + FN) if (TP + FN) != 0 else 0\n",
    "\n",
    "    return precision, recall\n",
    "\n",
    "precision, recall = precision_recall(y_test, y_pred)\n",
    "print(f\"Precision: {precision:.2f}\")\n",
    "print(f\"Recall: {recall:.2f}\")\n"
   ]
  }
 ],
 "metadata": {
  "kernelspec": {
   "display_name": "Python 3",
   "language": "python",
   "name": "python3"
  },
  "language_info": {
   "codemirror_mode": {
    "name": "ipython",
    "version": 3
   },
   "file_extension": ".py",
   "mimetype": "text/x-python",
   "name": "python",
   "nbconvert_exporter": "python",
   "pygments_lexer": "ipython3",
   "version": "3.12.8"
  }
 },
 "nbformat": 4,
 "nbformat_minor": 5
}
