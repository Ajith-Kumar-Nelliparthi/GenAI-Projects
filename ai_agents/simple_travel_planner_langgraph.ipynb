{
  "nbformat": 4,
  "nbformat_minor": 0,
  "metadata": {
    "colab": {
      "provenance": []
    },
    "kernelspec": {
      "name": "python3",
      "display_name": "Python 3"
    },
    "language_info": {
      "name": "python"
    }
  },
  "cells": [
    {
      "cell_type": "markdown",
      "source": [
        "# Building a Travel Planner with LangGraph: A Tutorial\n",
        "### Overview\n",
        "This notebook guides you through the process of creating a simple Travel Planner using LangGraph, a library for building stateful, multi-step applications with language models. The Travel Planner demonstrates how to structure a conversational AI application that collects user input and generates personalized travel itineraries.\n",
        "\n",
        "### Motivation\n",
        "In the realm of AI applications, managing state and flow in multi-step processes can be challenging. LangGraph provides a solution by allowing developers to create graph-based workflows that can handle complex interactions while maintaining a clear and modular structure. This Travel Planner serves as a practical example of how to leverage LangGraph's capabilities to build a useful and interactive application.\n",
        "\n",
        "### Key Components\n",
        "1. **StateGraph**: The core of our application, defining the flow of our Travel Planner.\n",
        "2. **PlannerState**: A custom type representing the state of our planning process.\n",
        "3. **Node Functions**: Individual steps in our planning process (input_city, input_interests, create_itinerary).\n",
        "4. **LLM Integration**: Utilizing a language model to generate the final itinerary.\n",
        "\n",
        "### Method Details\n",
        "Our Travel Planner follows a straightforward, three-step process:\n",
        "\n",
        "1. City Input:\n",
        "\n",
        "  - The application prompts the user to enter the city they want to visit.\n",
        "  - This information is stored in the state.\n",
        "2. Interests Input:\n",
        "\n",
        "  - The user is asked to provide their interests for the trip.\n",
        "  - These interests are stored as a list in the state.\n",
        "3. Itinerary Creation:\n",
        "\n",
        "  - Using the collected city and interests, the application leverages a language model to generate a personalized day trip itinerary.\n",
        "  - The generated itinerary is presented to the user.\n",
        "The flow between these steps is managed by LangGraph, which handles the state transitions and ensures that each step is executed in the correct order.\n",
        "\n",
        "### Conclusion\n",
        "This notebook demonstrates how LangGraph can be used to create a simple yet effective Travel Planner. By structuring our application as a graph of interconnected nodes, we achieve a clear separation of concerns and a easily modifiable workflow. This approach can be extended to more complex applications, showcasing the power and flexibility of graph-based designs in AI-driven conversational interfaces.\n",
        "\n",
        "The Travel Planner serves as a starting point for developers looking to build more sophisticated stateful applications using language models. It illustrates key concepts such as state management, user input handling, and integration with AI models, all within the framework provided by LangGraph."
      ],
      "metadata": {
        "id": "ekWCqjtCyPap"
      }
    },
    {
      "cell_type": "markdown",
      "source": [
        "##### Import required libraries"
      ],
      "metadata": {
        "id": "3MX6DmRo1Mvu"
      }
    },
    {
      "cell_type": "code",
      "source": [
        "!pip -q install langchain huggingface_hub  python-dotenv\n",
        "!pip -q install sentence_transformers langchain_community"
      ],
      "metadata": {
        "colab": {
          "base_uri": "https://localhost:8080/"
        },
        "id": "tw_gY0p8y5Ip",
        "outputId": "f0c3ee43-2111-42df-8b27-2696ed790858"
      },
      "execution_count": null,
      "outputs": [
        {
          "output_type": "stream",
          "name": "stdout",
          "text": [
            "\u001b[?25l   \u001b[90m━━━━━━━━━━━━━━━━━━━━━━━━━━━━━━━━━━━━━━━━\u001b[0m \u001b[32m0.0/2.5 MB\u001b[0m \u001b[31m?\u001b[0m eta \u001b[36m-:--:--\u001b[0m\r\u001b[2K   \u001b[91m━━━━━━━━━━━━━━━━━━━━━━━━━━━━━━━━━━\u001b[0m\u001b[91m╸\u001b[0m\u001b[90m━━━━━\u001b[0m \u001b[32m2.2/2.5 MB\u001b[0m \u001b[31m66.4 MB/s\u001b[0m eta \u001b[36m0:00:01\u001b[0m\r\u001b[2K   \u001b[90m━━━━━━━━━━━━━━━━━━━━━━━━━━━━━━━━━━━━━━━━\u001b[0m \u001b[32m2.5/2.5 MB\u001b[0m \u001b[31m43.3 MB/s\u001b[0m eta \u001b[36m0:00:00\u001b[0m\n",
            "\u001b[2K   \u001b[90m━━━━━━━━━━━━━━━━━━━━━━━━━━━━━━━━━━━━━━━━\u001b[0m \u001b[32m45.2/45.2 kB\u001b[0m \u001b[31m3.2 MB/s\u001b[0m eta \u001b[36m0:00:00\u001b[0m\n",
            "\u001b[2K   \u001b[90m━━━━━━━━━━━━━━━━━━━━━━━━━━━━━━━━━━━━━━━━\u001b[0m \u001b[32m363.4/363.4 MB\u001b[0m \u001b[31m4.1 MB/s\u001b[0m eta \u001b[36m0:00:00\u001b[0m\n",
            "\u001b[2K   \u001b[90m━━━━━━━━━━━━━━━━━━━━━━━━━━━━━━━━━━━━━━━━\u001b[0m \u001b[32m13.8/13.8 MB\u001b[0m \u001b[31m67.9 MB/s\u001b[0m eta \u001b[36m0:00:00\u001b[0m\n",
            "\u001b[2K   \u001b[90m━━━━━━━━━━━━━━━━━━━━━━━━━━━━━━━━━━━━━━━━\u001b[0m \u001b[32m24.6/24.6 MB\u001b[0m \u001b[31m80.4 MB/s\u001b[0m eta \u001b[36m0:00:00\u001b[0m\n",
            "\u001b[2K   \u001b[90m━━━━━━━━━━━━━━━━━━━━━━━━━━━━━━━━━━━━━━━━\u001b[0m \u001b[32m883.7/883.7 kB\u001b[0m \u001b[31m43.7 MB/s\u001b[0m eta \u001b[36m0:00:00\u001b[0m\n",
            "\u001b[2K   \u001b[90m━━━━━━━━━━━━━━━━━━━━━━━━━━━━━━━━━━━━━━━━\u001b[0m \u001b[32m664.8/664.8 MB\u001b[0m \u001b[31m3.0 MB/s\u001b[0m eta \u001b[36m0:00:00\u001b[0m\n",
            "\u001b[2K   \u001b[90m━━━━━━━━━━━━━━━━━━━━━━━━━━━━━━━━━━━━━━━━\u001b[0m \u001b[32m211.5/211.5 MB\u001b[0m \u001b[31m4.8 MB/s\u001b[0m eta \u001b[36m0:00:00\u001b[0m\n",
            "\u001b[2K   \u001b[90m━━━━━━━━━━━━━━━━━━━━━━━━━━━━━━━━━━━━━━━━\u001b[0m \u001b[32m56.3/56.3 MB\u001b[0m \u001b[31m8.5 MB/s\u001b[0m eta \u001b[36m0:00:00\u001b[0m\n",
            "\u001b[2K   \u001b[90m━━━━━━━━━━━━━━━━━━━━━━━━━━━━━━━━━━━━━━━━\u001b[0m \u001b[32m127.9/127.9 MB\u001b[0m \u001b[31m8.1 MB/s\u001b[0m eta \u001b[36m0:00:00\u001b[0m\n",
            "\u001b[2K   \u001b[90m━━━━━━━━━━━━━━━━━━━━━━━━━━━━━━━━━━━━━━━━\u001b[0m \u001b[32m207.5/207.5 MB\u001b[0m \u001b[31m4.1 MB/s\u001b[0m eta \u001b[36m0:00:00\u001b[0m\n",
            "\u001b[2K   \u001b[90m━━━━━━━━━━━━━━━━━━━━━━━━━━━━━━━━━━━━━━━━\u001b[0m \u001b[32m21.1/21.1 MB\u001b[0m \u001b[31m14.9 MB/s\u001b[0m eta \u001b[36m0:00:00\u001b[0m\n",
            "\u001b[2K   \u001b[90m━━━━━━━━━━━━━━━━━━━━━━━━━━━━━━━━━━━━━━━━\u001b[0m \u001b[32m50.9/50.9 kB\u001b[0m \u001b[31m2.5 MB/s\u001b[0m eta \u001b[36m0:00:00\u001b[0m\n",
            "\u001b[?25h"
          ]
        }
      ]
    },
    {
      "cell_type": "code",
      "source": [
        "!pip -q install langchain_groq langgraph"
      ],
      "metadata": {
        "colab": {
          "base_uri": "https://localhost:8080/"
        },
        "id": "iLXzk-H2IX6U",
        "outputId": "d37731b0-adf0-48ff-80f6-747e50a2c06f"
      },
      "execution_count": 1,
      "outputs": [
        {
          "output_type": "stream",
          "name": "stdout",
          "text": [
            "\u001b[2K     \u001b[90m━━━━━━━━━━━━━━━━━━━━━━━━━━━━━━━━━━━━━━━━\u001b[0m \u001b[32m43.7/43.7 kB\u001b[0m \u001b[31m2.7 MB/s\u001b[0m eta \u001b[36m0:00:00\u001b[0m\n",
            "\u001b[2K   \u001b[90m━━━━━━━━━━━━━━━━━━━━━━━━━━━━━━━━━━━━━━━━\u001b[0m \u001b[32m152.5/152.5 kB\u001b[0m \u001b[31m8.0 MB/s\u001b[0m eta \u001b[36m0:00:00\u001b[0m\n",
            "\u001b[2K   \u001b[90m━━━━━━━━━━━━━━━━━━━━━━━━━━━━━━━━━━━━━━━━\u001b[0m \u001b[32m131.4/131.4 kB\u001b[0m \u001b[31m7.0 MB/s\u001b[0m eta \u001b[36m0:00:00\u001b[0m\n",
            "\u001b[2K   \u001b[90m━━━━━━━━━━━━━━━━━━━━━━━━━━━━━━━━━━━━━━━━\u001b[0m \u001b[32m43.9/43.9 kB\u001b[0m \u001b[31m2.5 MB/s\u001b[0m eta \u001b[36m0:00:00\u001b[0m\n",
            "\u001b[2K   \u001b[90m━━━━━━━━━━━━━━━━━━━━━━━━━━━━━━━━━━━━━━━━\u001b[0m \u001b[32m50.6/50.6 kB\u001b[0m \u001b[31m2.2 MB/s\u001b[0m eta \u001b[36m0:00:00\u001b[0m\n",
            "\u001b[2K   \u001b[90m━━━━━━━━━━━━━━━━━━━━━━━━━━━━━━━━━━━━━━━━\u001b[0m \u001b[32m216.5/216.5 kB\u001b[0m \u001b[31m9.5 MB/s\u001b[0m eta \u001b[36m0:00:00\u001b[0m\n",
            "\u001b[?25h"
          ]
        }
      ]
    },
    {
      "cell_type": "markdown",
      "source": [
        "### Import necessary libraries"
      ],
      "metadata": {
        "id": "y6JwHjPZAs0O"
      }
    },
    {
      "cell_type": "code",
      "source": [
        "import os\n",
        "from langchain_groq import ChatGroq\n",
        "from typing import TypedDict, Dict, List, Annotated\n",
        "from langgraph.graph import StateGraph, END\n",
        "from langchain_core.prompts import ChatPromptTemplate\n",
        "from langchain_core.messages import HumanMessage, AIMessage\n",
        "from langchain_core.runnables.graph import MermaidDrawMethod\n",
        "from IPython.display import display, Image\n",
        "import re\n",
        "from google.colab import userdata\n",
        "\n",
        "os.environ[\"GROQ_API_KEY\"] = userdata.get(\"GROQ_API_KEY\")\n",
        "# os.environ[\"OPEN_API_KEY\"] = userdata.get(\"OPEN_API_KEY\")"
      ],
      "metadata": {
        "id": "0MZO1rz918_d"
      },
      "execution_count": 2,
      "outputs": []
    },
    {
      "cell_type": "markdown",
      "source": [
        "### Define State Structure\n",
        "We'll define the state that our agent will maintain throughout its operation."
      ],
      "metadata": {
        "id": "AkqIGCN3tG_y"
      }
    },
    {
      "cell_type": "code",
      "source": [
        "class State(TypedDict):\n",
        "  messages: Annotated[List[HumanMessage | AIMessage], \"This messages in the conversation\"]\n",
        "  city: str\n",
        "  interests: List[str]\n",
        "  itinerary: str\n",
        "\n",
        "# language model initialization\n",
        "llm = ChatGroq(model_name=\"llama3-8b-8192\", temperature=0)"
      ],
      "metadata": {
        "id": "rvcAEBigtbZ7"
      },
      "execution_count": 3,
      "outputs": []
    },
    {
      "cell_type": "markdown",
      "source": [
        "### Set up Prompts"
      ],
      "metadata": {
        "id": "-BchixVwRji1"
      }
    },
    {
      "cell_type": "code",
      "source": [
        "itinerary_prompt = ChatPromptTemplate.from_messages([\n",
        "    (\"system\", \"You are a helpful travel assistant. Create a day trip itinerary for {city} based on the user's interests: {interests}. Provide a brief, bulleted itinerary.\"),\n",
        "    (\"human\", \"Create an itinerary for my day trip.\"),\n",
        "])"
      ],
      "metadata": {
        "id": "Wxl8TrtxRmHc"
      },
      "execution_count": 5,
      "outputs": []
    },
    {
      "cell_type": "markdown",
      "source": [
        "### Define Node Functions\n",
        "Now we'll define the main functions that our agent will use: get city, get interests, create itinerary"
      ],
      "metadata": {
        "id": "8-Fpir4wtwPh"
      }
    },
    {
      "cell_type": "code",
      "source": [
        "def input_city(state: State) -> State:\n",
        "  print(\"Please enter the city you want to visit:\")\n",
        "  user_message = input(\"Your input: \")\n",
        "  return {\n",
        "      **state,\n",
        "      \"city\": user_message,\n",
        "      \"messages\": state[\"messages\"] + [HumanMessage(content=user_message)]\n",
        "  }\n",
        "\n",
        "def input_interests(state: State) -> State:\n",
        "  print(\"Please enter your interests for the trip to {state['city']} (comma-separate):\")\n",
        "  user_message = input(\"Your input: \")\n",
        "  return {\n",
        "      **state,\n",
        "      \"interests\": [i.strip() for i in user_message.split(',')],\n",
        "      \"messages\": state[\"messages\"] + [HumanMessage(content=user_message)]\n",
        "  }\n",
        "\n",
        "def create_itinerary(state: State) -> State:\n",
        "    print(f\"Creating an itinerary for {state['city']} based on interests: {', '.join(state['interests'])}...\")\n",
        "    response = llm.invoke(itinerary_prompt.format_messages(city=state['city'], interests=\", \".join(state['interests'])))\n",
        "    print(\"\\nFinal Itinerary:\")\n",
        "    print(response.content)\n",
        "    return {\n",
        "        **state,\n",
        "        \"messages\": state['messages'] + [AIMessage(content=response.content)],\n",
        "        \"itinerary\": response.content,\n",
        "    }"
      ],
      "metadata": {
        "id": "ok8hdDZ-tvGZ"
      },
      "execution_count": 7,
      "outputs": []
    },
    {
      "cell_type": "markdown",
      "source": [
        "### Create and Configure the Graph\n",
        "Now we'll create our LangGraph workflow and compile it."
      ],
      "metadata": {
        "id": "AIDMuLV7vHNx"
      }
    },
    {
      "cell_type": "code",
      "source": [
        "workflow = StateGraph(State)\n",
        "\n",
        "workflow.add_node(\"input_city\", input_city)\n",
        "workflow.add_node(\"input_interests\", input_interests)\n",
        "workflow.add_node(\"create_itinerary\", create_itinerary)\n",
        "\n",
        "workflow.set_entry_point(\"input_city\")\n",
        "\n",
        "workflow.add_edge(\"input_city\", \"input_interests\")\n",
        "workflow.add_edge(\"input_interests\", \"create_itinerary\")\n",
        "workflow.add_edge(\"create_itinerary\", END)\n",
        "\n",
        "app = workflow.compile()"
      ],
      "metadata": {
        "id": "8o4oUT8UvR4H"
      },
      "execution_count": 8,
      "outputs": []
    },
    {
      "cell_type": "markdown",
      "source": [
        "### Visualize the Graph"
      ],
      "metadata": {
        "id": "H_gAN1wkfwMT"
      }
    },
    {
      "cell_type": "code",
      "source": [
        "display(\n",
        "    Image(\n",
        "        app.get_graph().draw_mermaid_png(\n",
        "            draw_method=MermaidDrawMethod.API,\n",
        "        )\n",
        "    )\n",
        ")"
      ],
      "metadata": {
        "colab": {
          "base_uri": "https://localhost:8080/",
          "height": 449
        },
        "id": "3uhMNzwffzq8",
        "outputId": "de8e61a1-2d21-479f-a86b-e089eab64fb6"
      },
      "execution_count": 9,
      "outputs": [
        {
          "output_type": "display_data",
          "data": {
            "image/png": "[encoded data removed]",
            "text/plain": [
              "<IPython.core.display.Image object>"
            ]
          },
          "metadata": {}
        }
      ]
    },
    {
      "cell_type": "markdown",
      "source": [
        "### Define the function that runs the graph"
      ],
      "metadata": {
        "id": "lpNkUYxUvrrA"
      }
    },
    {
      "cell_type": "code",
      "source": [
        "def run_travel_agent(user_request: str):\n",
        "  print(f\"Initial Request: {user_request}\\n\")\n",
        "  state = {\n",
        "      \"messages\": [HumanMessage(content=user_request)],\n",
        "      \"city\": \"\",\n",
        "      \"interests\": [],\n",
        "      \"itinerary\": \"\",\n",
        "  }\n",
        "  for output in app.stream(state):\n",
        "    pass # The nodes themselves now handle all printing"
      ],
      "metadata": {
        "id": "PJQsIJ8Evua_"
      },
      "execution_count": 10,
      "outputs": []
    },
    {
      "cell_type": "markdown",
      "source": [
        "### Use case example"
      ],
      "metadata": {
        "id": "kPyfi4foIF4F"
      }
    },
    {
      "cell_type": "code",
      "source": [
        "user_request = \"I want to plan a day trip.\"\n",
        "run_travel_agent(user_request)"
      ],
      "metadata": {
        "id": "gT2AC0xhIIMk",
        "colab": {
          "base_uri": "https://localhost:8080/"
        },
        "outputId": "9c03789d-2bc0-49f1-db59-09f9763c5e51"
      },
      "execution_count": 12,
      "outputs": [
        {
          "output_type": "stream",
          "name": "stdout",
          "text": [
            "Initial Request: I want to plan a day trip.\n",
            "\n",
            "Please enter the city you want to visit:\n",
            "Your input: paris\n",
            "Please enter your interests for the trip to {state['city']} (comma-separate):\n",
            "Your input: food\n",
            "Creating an itinerary for paris based on interests: food...\n",
            "\n",
            "Final Itinerary:\n",
            "Bonjour! I'd be delighted to help you plan a foodie day trip to Paris. Here's a suggested itinerary for you:\n",
            "\n",
            "**Morning**\n",
            "\n",
            "* 9:00 AM: Start your day with a delicious French breakfast at Café de Flore or Les Deux Magots, two iconic cafes on the Boulevard Saint-Germain. Try a croissant or a baguette with butter and jam, accompanied by a café au lait or a hot chocolate.\n",
            "* 10:00 AM: Visit the historic Marché aux Puces de Saint-Ouen (flea market) to explore the stalls selling artisanal foods, cheeses, and baked goods. You might find some unique and delicious treats to take back to your hotel or enjoy on the go.\n",
            "\n",
            "**Lunch**\n",
            "\n",
            "* 12:30 PM: Head to the charming neighborhood of Montmartre and grab lunch at Le Comptoir du Relais, a cozy bistro serving classic French dishes like steak tartare, escargots, and confit de canard. Don't forget to try their famous French onion soup!\n",
            "\n",
            "**Afternoon**\n",
            "\n",
            "* 2:30 PM: Take a stroll through the picturesque streets of Montmartre, exploring the charming alleys, charming squares, and street artists. Be sure to visit the Sacré-Cœur Basilica for breathtaking views of the city.\n",
            "* 4:00 PM: Visit the famous patisserie, Pierre Hermé, to sample some of the most exquisite pastries and macarons in Paris. Try the iconic Ispahan macaron, made with rose petal jelly and raspberry.\n",
            "\n",
            "**Dinner**\n",
            "\n",
            "* 7:00 PM: End your day with dinner at Septime, a Michelin-starred restaurant known for its innovative and seasonal French cuisine. Be sure to book a table in advance, as this restaurant is very popular among foodies.\n",
            "\n",
            "**Evening**\n",
            "\n",
            "* 9:00 PM: Finish your day with a scenic Seine River cruise, which will give you a unique perspective on the city's landmarks and bridges while enjoying a glass of wine or champagne.\n",
            "\n",
            "Bon appétit, and I hope you have a wonderful day trip to Paris!\n"
          ]
        }
      ]
    }
  ]
}